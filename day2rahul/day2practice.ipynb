{
 "metadata": {
  "name": "",
  "signature": "sha256:7e37dc220cf31045ad8c6910290c1578cb0f018d9710ab7ce886665980bf8751"
 },
 "nbformat": 3,
 "nbformat_minor": 0,
 "worksheets": [
  {
   "cells": [
    {
     "cell_type": "markdown",
     "metadata": {},
     "source": [
      "#Playing with Genesis (only the text)\n",
      "\n",
      "In this practice session, we'll take the text of genesis, parse it into tokens, remove stopwords, create a frequency of words list, and also create bigrams. We'll finally put our work into a github repo.\n",
      "\n",
      "The regular imports"
     ]
    },
    {
     "cell_type": "code",
     "collapsed": false,
     "input": [
      "%matplotlib inline\n",
      "import numpy as np\n",
      "import matplotlib.pyplot as plt\n",
      "import pandas as pd\n",
      "import seaborn as sns\n",
      "pd.set_option('display.width', 500)\n",
      "pd.set_option('display.max_columns', 100)"
     ],
     "language": "python",
     "metadata": {},
     "outputs": [],
     "prompt_number": 26
    },
    {
     "cell_type": "markdown",
     "metadata": {},
     "source": [
      "Some other imports"
     ]
    },
    {
     "cell_type": "code",
     "collapsed": false,
     "input": [
      "from string import punctuation\n"
     ],
     "language": "python",
     "metadata": {},
     "outputs": [],
     "prompt_number": 27
    },
    {
     "cell_type": "markdown",
     "metadata": {},
     "source": [
      "We first open Genesis and slurp it in."
     ]
    },
    {
     "cell_type": "code",
     "collapsed": false,
     "input": [
      "genesisfile=open(\"Genesis.txt\")\n",
      "genesistext=genesisfile.read()\n",
      "genesisfile.close()"
     ],
     "language": "python",
     "metadata": {},
     "outputs": [],
     "prompt_number": 28
    },
    {
     "cell_type": "markdown",
     "metadata": {},
     "source": [
      "We'll then split it into words, and clean it a bit. Look for the \"python string method translate\" on google to see what this is doing. Then we'll take each word and lower-case it."
     ]
    },
    {
     "cell_type": "code",
     "collapsed": false,
     "input": [
      "#genesistext=genesistext.translate(None,'[]1234567890\\xb6')"
     ],
     "language": "python",
     "metadata": {},
     "outputs": []
    },
    {
     "cell_type": "code",
     "collapsed": false,
     "input": [
      "genesistoks=genesistext.split()\n",
      "genesistoks=[tok.translate(None,'[]1234567890\\xb6') for tok in genesistoks]\n",
      "lctoks = [word.lower() for word in genesistoks]\n",
      "lctoks[:100]"
     ],
     "language": "python",
     "metadata": {},
     "outputs": [
      {
       "metadata": {},
       "output_type": "pyout",
       "prompt_number": 29,
       "text": [
        "['the',\n",
        " 'first',\n",
        " 'book',\n",
        " 'of',\n",
        " 'moses,',\n",
        " 'called',\n",
        " 'genesis',\n",
        " 'chapter',\n",
        " '',\n",
        " '',\n",
        " 'in',\n",
        " 'the',\n",
        " 'beginning',\n",
        " 'god',\n",
        " 'created',\n",
        " 'the',\n",
        " 'heaven',\n",
        " 'and',\n",
        " 'the',\n",
        " 'earth.',\n",
        " '',\n",
        " 'and',\n",
        " 'the',\n",
        " 'earth',\n",
        " 'was',\n",
        " 'without',\n",
        " 'form,',\n",
        " 'and',\n",
        " 'void;',\n",
        " 'and',\n",
        " 'darkness',\n",
        " 'was',\n",
        " 'upon',\n",
        " 'the',\n",
        " 'face',\n",
        " 'of',\n",
        " 'the',\n",
        " 'deep.',\n",
        " 'and',\n",
        " 'the',\n",
        " 'spirit',\n",
        " 'of',\n",
        " 'god',\n",
        " 'moved',\n",
        " 'upon',\n",
        " 'the',\n",
        " 'face',\n",
        " 'of',\n",
        " 'the',\n",
        " 'waters.',\n",
        " '',\n",
        " 'and',\n",
        " 'god',\n",
        " 'said,',\n",
        " 'let',\n",
        " 'there',\n",
        " 'be',\n",
        " 'light:',\n",
        " 'and',\n",
        " 'there',\n",
        " 'was',\n",
        " 'light.',\n",
        " '',\n",
        " 'and',\n",
        " 'god',\n",
        " 'saw',\n",
        " 'the',\n",
        " 'light,',\n",
        " 'that',\n",
        " 'it',\n",
        " 'was',\n",
        " 'good:',\n",
        " 'and',\n",
        " 'god',\n",
        " 'divided',\n",
        " 'the',\n",
        " 'light',\n",
        " 'from',\n",
        " 'the',\n",
        " 'darkness.',\n",
        " '',\n",
        " 'and',\n",
        " 'god',\n",
        " 'called',\n",
        " 'the',\n",
        " 'light',\n",
        " 'day,',\n",
        " 'and',\n",
        " 'the',\n",
        " 'darkness',\n",
        " 'he',\n",
        " 'called',\n",
        " 'night.',\n",
        " 'and',\n",
        " 'the',\n",
        " 'evening',\n",
        " 'and',\n",
        " 'the',\n",
        " 'morning',\n",
        " 'were']"
       ]
      }
     ],
     "prompt_number": 29
    },
    {
     "cell_type": "code",
     "collapsed": false,
     "input": [
      "len(lctoks)"
     ],
     "language": "python",
     "metadata": {},
     "outputs": [
      {
       "metadata": {},
       "output_type": "pyout",
       "prompt_number": 30,
       "text": [
        "40092"
       ]
      }
     ],
     "prompt_number": 30
    },
    {
     "cell_type": "markdown",
     "metadata": {},
     "source": [
      "Let us read the stopwords in, and create a list of them."
     ]
    },
    {
     "cell_type": "code",
     "collapsed": false,
     "input": [
      "with open(\"english.stop.txt\") as f:\n",
      "    stops=[e.strip() for e in f.readlines()]\n",
      "stops[:50]"
     ],
     "language": "python",
     "metadata": {},
     "outputs": [
      {
       "metadata": {},
       "output_type": "pyout",
       "prompt_number": 31,
       "text": [
        "['a',\n",
        " \"a's\",\n",
        " 'able',\n",
        " 'about',\n",
        " 'above',\n",
        " 'according',\n",
        " 'accordingly',\n",
        " 'across',\n",
        " 'actually',\n",
        " 'after',\n",
        " 'afterwards',\n",
        " 'again',\n",
        " 'against',\n",
        " \"ain't\",\n",
        " 'all',\n",
        " 'allow',\n",
        " 'allows',\n",
        " 'almost',\n",
        " 'alone',\n",
        " 'along',\n",
        " 'already',\n",
        " 'also',\n",
        " 'although',\n",
        " 'always',\n",
        " 'am',\n",
        " 'among',\n",
        " 'amongst',\n",
        " 'an',\n",
        " 'and',\n",
        " 'another',\n",
        " 'any',\n",
        " 'anybody',\n",
        " 'anyhow',\n",
        " 'anyone',\n",
        " 'anything',\n",
        " 'anyway',\n",
        " 'anyways',\n",
        " 'anywhere',\n",
        " 'apart',\n",
        " 'appear',\n",
        " 'appreciate',\n",
        " 'appropriate',\n",
        " 'are',\n",
        " \"aren't\",\n",
        " 'around',\n",
        " 'as',\n",
        " 'aside',\n",
        " 'ask',\n",
        " 'asking',\n",
        " 'associated']"
       ]
      }
     ],
     "prompt_number": 31
    },
    {
     "cell_type": "markdown",
     "metadata": {},
     "source": [
      "Let us get rid of empty strings, and stop words."
     ]
    },
    {
     "cell_type": "code",
     "collapsed": false,
     "input": [
      "len([e for e in lctoks if e==\"\"])"
     ],
     "language": "python",
     "metadata": {},
     "outputs": [
      {
       "metadata": {},
       "output_type": "pyout",
       "prompt_number": 32,
       "text": [
        "1773"
       ]
      }
     ],
     "prompt_number": 32
    },
    {
     "cell_type": "markdown",
     "metadata": {},
     "source": [
      "There are 1773 empty strings! We'll remove them from the originallist"
     ]
    },
    {
     "cell_type": "code",
     "collapsed": false,
     "input": [
      "temp=[]\n",
      "for token in lctoks:\n",
      "    if token != \"\":\n",
      "        temp.append(token)\n",
      "lctoks=temp\n",
      "len(lctoks)"
     ],
     "language": "python",
     "metadata": {},
     "outputs": [
      {
       "metadata": {},
       "output_type": "pyout",
       "prompt_number": 33,
       "text": [
        "38319"
       ]
      }
     ],
     "prompt_number": 33
    },
    {
     "cell_type": "markdown",
     "metadata": {},
     "source": [
      "Now let us handle the stop words"
     ]
    },
    {
     "cell_type": "code",
     "collapsed": false,
     "input": [
      "#look at docs for filter\n",
      "lcnstoks=[]\n",
      "for tok in lctoks:\n",
      "     if tok not in stops:\n",
      "        lcnstoks.append(tok)\n",
      "lcnstoks[:100]"
     ],
     "language": "python",
     "metadata": {},
     "outputs": [
      {
       "metadata": {},
       "output_type": "pyout",
       "prompt_number": 34,
       "text": [
        "['book',\n",
        " 'moses,',\n",
        " 'called',\n",
        " 'genesis',\n",
        " 'chapter',\n",
        " 'beginning',\n",
        " 'god',\n",
        " 'created',\n",
        " 'heaven',\n",
        " 'earth.',\n",
        " 'earth',\n",
        " 'form,',\n",
        " 'void;',\n",
        " 'darkness',\n",
        " 'face',\n",
        " 'deep.',\n",
        " 'spirit',\n",
        " 'god',\n",
        " 'moved',\n",
        " 'face',\n",
        " 'waters.',\n",
        " 'god',\n",
        " 'said,',\n",
        " 'light:',\n",
        " 'light.',\n",
        " 'god',\n",
        " 'light,',\n",
        " 'good:',\n",
        " 'god',\n",
        " 'divided',\n",
        " 'light',\n",
        " 'darkness.',\n",
        " 'god',\n",
        " 'called',\n",
        " 'light',\n",
        " 'day,',\n",
        " 'darkness',\n",
        " 'called',\n",
        " 'night.',\n",
        " 'evening',\n",
        " 'morning',\n",
        " 'day.',\n",
        " 'god',\n",
        " 'said,',\n",
        " 'firmament',\n",
        " 'midst',\n",
        " 'waters,',\n",
        " 'divide',\n",
        " 'waters',\n",
        " 'waters.',\n",
        " 'god',\n",
        " 'made',\n",
        " 'firmament,',\n",
        " 'divided',\n",
        " 'waters',\n",
        " 'firmament',\n",
        " 'waters',\n",
        " 'firmament:',\n",
        " 'so.',\n",
        " 'god',\n",
        " 'called',\n",
        " 'firmament',\n",
        " 'heaven.',\n",
        " 'evening',\n",
        " 'morning',\n",
        " 'day.',\n",
        " 'god',\n",
        " 'said,',\n",
        " 'waters',\n",
        " 'heaven',\n",
        " 'gathered',\n",
        " 'place,',\n",
        " 'dry',\n",
        " 'land',\n",
        " 'appear:',\n",
        " 'so.',\n",
        " 'god',\n",
        " 'called',\n",
        " 'dry',\n",
        " 'land',\n",
        " 'earth;',\n",
        " 'gathering',\n",
        " 'waters',\n",
        " 'called',\n",
        " 'seas:',\n",
        " 'god',\n",
        " 'good.',\n",
        " 'god',\n",
        " 'said,',\n",
        " 'earth',\n",
        " 'bring',\n",
        " 'grass,',\n",
        " 'herb',\n",
        " 'yielding',\n",
        " 'seed,',\n",
        " 'fruit',\n",
        " 'tree',\n",
        " 'yielding',\n",
        " 'fruit',\n",
        " 'kind,']"
       ]
      }
     ],
     "prompt_number": 34
    },
    {
     "cell_type": "code",
     "collapsed": false,
     "input": [
      "print len(lcnstoks)"
     ],
     "language": "python",
     "metadata": {},
     "outputs": [
      {
       "output_type": "stream",
       "stream": "stdout",
       "text": [
        "15917\n"
       ]
      }
     ],
     "prompt_number": 35
    },
    {
     "cell_type": "markdown",
     "metadata": {},
     "source": [
      "But we still have periods and commas and all that. Lets see what python thinks is punctuation"
     ]
    },
    {
     "cell_type": "code",
     "collapsed": false,
     "input": [
      "from string import punctuation\n",
      "punctuation"
     ],
     "language": "python",
     "metadata": {},
     "outputs": [
      {
       "metadata": {},
       "output_type": "pyout",
       "prompt_number": 36,
       "text": [
        "'!\"#$%&\\'()*+,-./:;<=>?@[\\\\]^_`{|}~'"
       ]
      }
     ],
     "prompt_number": 36
    },
    {
     "cell_type": "markdown",
     "metadata": {},
     "source": [
      "We want to keep the single quotes as they are used in the text"
     ]
    },
    {
     "cell_type": "code",
     "collapsed": false,
     "input": [
      "my_punctuation=punctuation.translate(None,\"'\")\n",
      "my_punctuation"
     ],
     "language": "python",
     "metadata": {},
     "outputs": [
      {
       "metadata": {},
       "output_type": "pyout",
       "prompt_number": 37,
       "text": [
        "'!\"#$%&()*+,-./:;<=>?@[\\\\]^_`{|}~'"
       ]
      }
     ],
     "prompt_number": 37
    },
    {
     "cell_type": "markdown",
     "metadata": {},
     "source": [
      "We remove the punctuation from both the `lctoks` as well as the `lcnstoks`"
     ]
    },
    {
     "cell_type": "code",
     "collapsed": false,
     "input": [
      "lctoks=[tok.translate(None,my_punctuation) for tok in lctoks]\n",
      "lcnstoks=[tok.translate(None,my_punctuation) for tok in lcnstoks]\n",
      "len(lctoks), len(lcnstoks)"
     ],
     "language": "python",
     "metadata": {},
     "outputs": [
      {
       "metadata": {},
       "output_type": "pyout",
       "prompt_number": 38,
       "text": [
        "(38319, 15917)"
       ]
      }
     ],
     "prompt_number": 38
    },
    {
     "cell_type": "markdown",
     "metadata": {},
     "source": [
      "Not all of these words are unique. To make things unique we put them inside sets. A set does not take duplicate items, and it also quacks like a python: ie it behaves like a list."
     ]
    },
    {
     "cell_type": "code",
     "collapsed": false,
     "input": [
      "uniqlcnstoks = set(lcnstoks)\n",
      "len(uniqlcnstoks)"
     ],
     "language": "python",
     "metadata": {},
     "outputs": [
      {
       "metadata": {},
       "output_type": "pyout",
       "prompt_number": 39,
       "text": [
        "2383"
       ]
      }
     ],
     "prompt_number": 39
    },
    {
     "cell_type": "markdown",
     "metadata": {},
     "source": [
      "Lets count the number of times each unique token gets seen."
     ]
    },
    {
     "cell_type": "code",
     "collapsed": false,
     "input": [
      "tokencounts=[]\n",
      "for ut in uniqlcnstoks:\n",
      "    tokencounts.append(lcnstoks.count(ut))\n",
      "together=zip(uniqlcnstoks, tokencounts)\n",
      "together[:20]"
     ],
     "language": "python",
     "metadata": {},
     "outputs": [
      {
       "metadata": {},
       "output_type": "pyout",
       "prompt_number": 40,
       "text": [
        "[('haggi', 1),\n",
        " ('chesed', 1),\n",
        " ('hath', 80),\n",
        " ('protest', 1),\n",
        " ('sleep', 5),\n",
        " ('jahzeel', 1),\n",
        " ('captain', 9),\n",
        " ('integrity', 2),\n",
        " ('yonder', 1),\n",
        " ('sevens', 2),\n",
        " ('feeding', 1),\n",
        " ('whoso', 1),\n",
        " ('intreat', 1),\n",
        " ('sinew', 2),\n",
        " ('whatsoever', 5),\n",
        " ('under', 1),\n",
        " ('lord', 206),\n",
        " ('worth', 2),\n",
        " ('merchant', 1),\n",
        " ('tarry', 4)]"
       ]
      }
     ],
     "prompt_number": 40
    },
    {
     "cell_type": "code",
     "collapsed": false,
     "input": [
      "def get_second(x):\n",
      "    return x[1]\n",
      "another_get_second = lambda x: x[1]"
     ],
     "language": "python",
     "metadata": {},
     "outputs": [],
     "prompt_number": 42
    },
    {
     "cell_type": "markdown",
     "metadata": {},
     "source": [
      "##This is for later, after we do more python\n",
      "\n",
      "Now lets sort this list."
     ]
    },
    {
     "cell_type": "code",
     "collapsed": false,
     "input": [
      "togethersorted=sorted(together, reverse=True, key=get_second)\n",
      "togethersorted[:100]"
     ],
     "language": "python",
     "metadata": {},
     "outputs": [
      {
       "metadata": {},
       "output_type": "pyout",
       "prompt_number": 44,
       "text": [
        "[('thou', 284),\n",
        " ('thy', 279),\n",
        " ('thee', 268),\n",
        " ('said', 263),\n",
        " ('god', 230),\n",
        " ('him', 227),\n",
        " ('lord', 206),\n",
        " ('land', 187),\n",
        " ('father', 169),\n",
        " ('jacob', 166),\n",
        " ('son', 148),\n",
        " ('me', 144),\n",
        " ('sons', 139),\n",
        " ('joseph', 138),\n",
        " ('them', 121),\n",
        " ('earth', 121),\n",
        " ('abraham', 121),\n",
        " ('behold', 118),\n",
        " ('years', 113),\n",
        " ('man', 107),\n",
        " ('wife', 101),\n",
        " ('called', 99),\n",
        " ('ye', 96),\n",
        " ('hand', 88),\n",
        " ('house', 86),\n",
        " ('pass', 82),\n",
        " ('brother', 81),\n",
        " ('hath', 80),\n",
        " ('pharaoh', 80),\n",
        " ('brethren', 80),\n",
        " ('egypt', 77),\n",
        " ('saying', 76),\n",
        " ('isaac', 76),\n",
        " ('day', 75),\n",
        " ('shalt', 74),\n",
        " ('made', 74),\n",
        " ('give', 67),\n",
        " ('begat', 67),\n",
        " ('men', 64),\n",
        " ('esau', 64),\n",
        " ('daughters', 63),\n",
        " ('days', 61),\n",
        " ('children', 61),\n",
        " ('hundred', 61),\n",
        " ('brought', 60),\n",
        " ('her', 59),\n",
        " ('seed', 58),\n",
        " ('hast', 57),\n",
        " ('bare', 56),\n",
        " ('cattle', 53),\n",
        " ('abram', 52),\n",
        " ('it', 50),\n",
        " ('chapter', 50),\n",
        " ('laban', 50),\n",
        " ('daughter', 49),\n",
        " ('you', 49),\n",
        " ('face', 49),\n",
        " ('eat', 49),\n",
        " ('gave', 48),\n",
        " ('place', 48),\n",
        " ('and', 48),\n",
        " ('blessed', 48),\n",
        " ('pray', 48),\n",
        " ('bring', 48),\n",
        " ('make', 47),\n",
        " ('field', 46),\n",
        " ('us', 46),\n",
        " ('canaan', 46),\n",
        " ('good', 45),\n",
        " ('servant', 42),\n",
        " ('thing', 42),\n",
        " ('put', 42),\n",
        " ('city', 41),\n",
        " ('rachel', 40),\n",
        " ('israel', 40),\n",
        " ('spake', 40),\n",
        " ('eyes', 39),\n",
        " ('noah', 39),\n",
        " ('servants', 39),\n",
        " ('found', 38),\n",
        " ('lived', 38),\n",
        " ('people', 36),\n",
        " ('sarah', 35),\n",
        " ('great', 35),\n",
        " ('told', 34),\n",
        " ('died', 33),\n",
        " ('art', 33),\n",
        " ('life', 32),\n",
        " ('duke', 32),\n",
        " ('not', 32),\n",
        " (\"father's\", 32),\n",
        " ('money', 32),\n",
        " ('set', 32),\n",
        " ('waters', 32),\n",
        " ('born', 30),\n",
        " ('heard', 30),\n",
        " ('heaven', 30),\n",
        " ('king', 30),\n",
        " ('night', 29),\n",
        " ('water', 29)]"
       ]
      }
     ],
     "prompt_number": 44
    },
    {
     "cell_type": "code",
     "collapsed": false,
     "input": [
      "bigrams=[]\n",
      "for i in xrange(len(lctoks)-1):\n",
      "    bigrams.append(lctoks[i]+\" \"+lctoks[i+1])\n",
      "print bigrams[0], bigrams[9]"
     ],
     "language": "python",
     "metadata": {},
     "outputs": [
      {
       "output_type": "stream",
       "stream": "stdout",
       "text": [
        "the first the beginning\n"
       ]
      }
     ],
     "prompt_number": 9
    },
    {
     "cell_type": "code",
     "collapsed": false,
     "input": [
      "print lctoks[:100]"
     ],
     "language": "python",
     "metadata": {},
     "outputs": [
      {
       "output_type": "stream",
       "stream": "stdout",
       "text": [
        "['the', 'first', 'book', 'of', 'moses', 'called', 'genesis', 'chapter', 'in', 'the', 'beginning', 'god', 'created', 'the', 'heaven', 'and', 'the', 'earth', 'and', 'the', 'earth', 'was', 'without', 'form', 'and', 'void', 'and', 'darkness', 'was', 'upon', 'the', 'face', 'of', 'the', 'deep', 'and', 'the', 'spirit', 'of', 'god', 'moved', 'upon', 'the', 'face', 'of', 'the', 'waters', 'and', 'god', 'said', 'let', 'there', 'be', 'light', 'and', 'there', 'was', 'light', 'and', 'god', 'saw', 'the', 'light', 'that', 'it', 'was', 'good', 'and', 'god', 'divided', 'the', 'light', 'from', 'the', 'darkness', 'and', 'god', 'called', 'the', 'light', 'day', 'and', 'the', 'darkness', 'he', 'called', 'night', 'and', 'the', 'evening', 'and', 'the', 'morning', 'were', 'the', 'first', 'day', 'and', 'god', 'said']\n"
       ]
      }
     ],
     "prompt_number": 11
    },
    {
     "cell_type": "code",
     "collapsed": false,
     "input": [
      "len(bigrams)"
     ],
     "language": "python",
     "metadata": {},
     "outputs": [
      {
       "metadata": {},
       "output_type": "pyout",
       "prompt_number": 12,
       "text": [
        "38318"
       ]
      }
     ],
     "prompt_number": 12
    },
    {
     "cell_type": "code",
     "collapsed": false,
     "input": [
      "uniqbigrams=set(bigrams)"
     ],
     "language": "python",
     "metadata": {},
     "outputs": [],
     "prompt_number": 13
    },
    {
     "cell_type": "code",
     "collapsed": false,
     "input": [
      "len(uniqbigrams)"
     ],
     "language": "python",
     "metadata": {},
     "outputs": [
      {
       "metadata": {},
       "output_type": "pyout",
       "prompt_number": 14,
       "text": [
        "15128"
       ]
      }
     ],
     "prompt_number": 14
    },
    {
     "cell_type": "code",
     "collapsed": false,
     "input": [
      "tokendict2={}\n",
      "for ub in uniqbigrams:\n",
      "    tokendict2[ub]=bigrams.count(ub)\n",
      "L2=sorted(tokendict2.iteritems(), key= lambda (k,v):v, reverse=True)[:100]\n",
      "L2"
     ],
     "language": "python",
     "metadata": {},
     "outputs": [
      {
       "metadata": {},
       "output_type": "pyout",
       "prompt_number": 19,
       "text": [
        "[('of the', 373),\n",
        " ('and the', 359),\n",
        " ('and he', 338),\n",
        " ('in the', 296),\n",
        " ('said unto', 179),\n",
        " ('the lord', 164),\n",
        " ('the land', 158),\n",
        " ('and they', 144),\n",
        " ('he said', 115),\n",
        " ('him and', 114),\n",
        " ('the earth', 113),\n",
        " ('all the', 110),\n",
        " ('i will', 105),\n",
        " ('land of', 104),\n",
        " ('and said', 97),\n",
        " ('unto him', 91),\n",
        " ('and it', 89),\n",
        " ('me and', 87),\n",
        " ('and i', 83),\n",
        " ('and his', 83),\n",
        " ('and she', 82),\n",
        " ('came to', 80),\n",
        " ('shall be', 77),\n",
        " ('sons of', 77),\n",
        " ('to pass', 75),\n",
        " ('the sons', 74),\n",
        " ('of his', 74),\n",
        " ('upon the', 70),\n",
        " ('thee and', 69),\n",
        " ('i have', 67),\n",
        " ('unto the', 66),\n",
        " ('and god', 66),\n",
        " ('and jacob', 64),\n",
        " ('it came', 63),\n",
        " ('and all', 62),\n",
        " ('out of', 62),\n",
        " ('earth and', 62),\n",
        " ('to the', 62),\n",
        " ('his father', 60),\n",
        " ('years and', 58),\n",
        " ('them and', 58),\n",
        " ('and joseph', 57),\n",
        " ('son and', 53),\n",
        " ('of my', 52),\n",
        " ('with him', 51),\n",
        " ('unto his', 51),\n",
        " ('thou shalt', 50),\n",
        " ('that he', 49),\n",
        " ('he had', 49),\n",
        " ('his brethren', 47),\n",
        " ('of egypt', 47),\n",
        " ('father and', 46),\n",
        " ('i pray', 45),\n",
        " ('unto them', 45),\n",
        " ('these are', 45),\n",
        " ('for the', 44),\n",
        " ('and abraham', 44),\n",
        " ('from the', 44),\n",
        " ('and behold', 43),\n",
        " ('the name', 43),\n",
        " ('all that', 43),\n",
        " ('are the', 43),\n",
        " ('the field', 42),\n",
        " ('wife and', 42),\n",
        " ('name of', 42),\n",
        " ('thou hast', 41),\n",
        " ('unto me', 41),\n",
        " ('it was', 41),\n",
        " ('of canaan', 41),\n",
        " ('that i', 39),\n",
        " ('and to', 39),\n",
        " ('pray thee', 38),\n",
        " ('that thou', 38),\n",
        " ('the man', 37),\n",
        " ('house and', 37),\n",
        " ('and when', 36),\n",
        " ('into the', 36),\n",
        " ('chapter and', 36),\n",
        " ('of all', 36),\n",
        " ('her and', 36),\n",
        " ('sons and', 36),\n",
        " ('thy seed', 35),\n",
        " ('the men', 34),\n",
        " ('that the', 34),\n",
        " ('and thy', 34),\n",
        " ('his wife', 34),\n",
        " ('that is', 34),\n",
        " ('the children', 34),\n",
        " ('and begat', 33),\n",
        " ('said i', 33),\n",
        " ('at the', 32),\n",
        " ('and of', 31),\n",
        " ('and let', 31),\n",
        " ('and isaac', 31),\n",
        " ('they said', 31),\n",
        " ('unto thee', 31),\n",
        " ('with me', 31),\n",
        " ('my son', 31),\n",
        " ('the waters', 30),\n",
        " ('my lord', 30)]"
       ]
      }
     ],
     "prompt_number": 19
    },
    {
     "cell_type": "code",
     "collapsed": false,
     "input": [],
     "language": "python",
     "metadata": {},
     "outputs": []
    }
   ],
   "metadata": {}
  }
 ]
}